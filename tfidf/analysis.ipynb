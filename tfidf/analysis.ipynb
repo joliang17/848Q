{
 "cells": [
  {
   "cell_type": "code",
   "execution_count": 81,
   "metadata": {},
   "outputs": [
    {
     "name": "stderr",
     "output_type": "stream",
     "text": [
      "[nltk_data] Downloading package wordnet to\n",
      "[nltk_data]     /Users/joanna_liang/nltk_data...\n",
      "[nltk_data]   Package wordnet is already up-to-date!\n"
     ]
    }
   ],
   "source": [
    "import pickle\n",
    "import seaborn as sns\n",
    "import matplotlib.pyplot as plt\n",
    "import numpy as np\n",
    "import nltk\n",
    "from nltk.corpus import wordnet\n",
    "nltk.download('wordnet')\n",
    "sns.set_theme(style='darkgrid')"
   ]
  },
  {
   "cell_type": "code",
   "execution_count": 13,
   "metadata": {},
   "outputs": [
    {
     "data": {
      "text/plain": [
       "[('waiting', 3159), ('timid', 581), ('best', 365), ('aggressive', 363)]"
      ]
     },
     "execution_count": 13,
     "metadata": {},
     "output_type": "execute_result"
    }
   ],
   "source": [
    "with open('buzzer.pkl', 'rb') as f:\n",
    "    buzzer_exp = pickle.load(f)\n",
    "[(key, len(value)) for key, value in buzzer_exp.items()]"
   ]
  },
  {
   "cell_type": "markdown",
   "metadata": {},
   "source": [
    "# Answer 1"
   ]
  },
  {
   "cell_type": "markdown",
   "metadata": {},
   "source": [
    "## Confused answers"
   ]
  },
  {
   "cell_type": "code",
   "execution_count": 71,
   "metadata": {},
   "outputs": [],
   "source": [
    "def print_histplot(line_data, title=''):\n",
    "    ax = sns.histplot(data=line_data, kde=True, stat='frequency')\n",
    "    if title != '':\n",
    "        ax.set(title=title)\n",
    "    ax.set_xticks(range(10))\n",
    "    return "
   ]
  },
  {
   "cell_type": "code",
   "execution_count": 111,
   "metadata": {},
   "outputs": [],
   "source": [
    "def evaluate_syn(cur_type, exp_guesser):\n",
    "    cur_type_question = [item['text'] for item in exp_guesser[cur_type] if item['answer'] is not None]\n",
    "    cur_type_answer = [item['answer'] for item in exp_guesser[cur_type] if item['answer'] is not None]\n",
    "    print(f\"{cur_type} answers: {cur_type_answer[:10]}\")\n",
    "    len_syn = [len(wordnet.synsets(item)) for item in cur_type_answer]\n",
    "    print(f\"{cur_type} answers: mean of synset: {np.mean(len_syn)}\")\n",
    "    # print_histplot(len_syn, title=cur_type)\n",
    "    return cur_type_question, cur_type_answer, len_syn"
   ]
  },
  {
   "cell_type": "code",
   "execution_count": 29,
   "metadata": {},
   "outputs": [
    {
     "data": {
      "text/plain": [
       "[('hit', 218), ('miss', 183), ('close', 99)]"
      ]
     },
     "execution_count": 29,
     "metadata": {},
     "output_type": "execute_result"
    }
   ],
   "source": [
    "with open('guesser.pkl', 'rb') as f:\n",
    "    guesser_exp = pickle.load(f)\n",
    "[(key, len(value)) for key, value in guesser_exp.items()]"
   ]
  },
  {
   "cell_type": "code",
   "execution_count": 112,
   "metadata": {},
   "outputs": [
    {
     "name": "stdout",
     "output_type": "stream",
     "text": [
      "close answers: ['Mass_(music)', 'Byzantine_Empire', 'Russian_Empire', \"Young's_interference_experiment\", 'Sandman', 'Los_Angeles', 'Lord_Byron', 'Matthew_Arnold', 'S-waves', 'Density']\n",
      "close answers: mean of synset: 0.48484848484848486\n",
      "hit answers: ['Texas_annexation', 'Martin_Scorsese', 'Spin_(physics)', 'Rembrandt', 'DNA', 'Croesus', 'Gerard_Manley_Hopkins', 'Inflation_(cosmology)', 'David_Hume', 'Andrew_Marvell']\n",
      "hit answers: mean of synset: 0.7568807339449541\n",
      "miss answers: ['Lana_Del_Rey', 'Hannibal', 'State_of_Washington', 'Latin', 'Isolde', 'North_Macedonia', 'Lysis', 'Outkast', 'Swing_(seat)', 'Albatrosses']\n",
      "miss answers: mean of synset: 1.0402298850574712\n"
     ]
    }
   ],
   "source": [
    "cur_type = 'close'\n",
    "close_q, close_ans, close_len = evaluate_syn(cur_type=cur_type, exp_guesser=guesser_exp)\n",
    "\n",
    "cur_type = 'hit'\n",
    "hit_q, hit_ans, hit_len = evaluate_syn(cur_type=cur_type, exp_guesser=guesser_exp)\n",
    "\n",
    "cur_type = 'miss'\n",
    "miss_q, miss_ans, miss_len = evaluate_syn(cur_type=cur_type, exp_guesser=guesser_exp)"
   ]
  },
  {
   "cell_type": "code",
   "execution_count": 97,
   "metadata": {},
   "outputs": [
    {
     "name": "stdout",
     "output_type": "stream",
     "text": [
      "Mass_(music), Byzantine_Empire, Russian_Empire, Young's_interference_experiment, Sandman, Los_Angeles, Lord_Byron, Matthew_Arnold, S-waves, Density, Georgia_(country), Luminosity, Apollo, Mrs_Dalloway, Winged_Victory_of_Samothrace, Pudd'nhead_Wilson, Roland, Silicon, Rand_Paul, Sikh_gurus, António_de_Oliveira_Salazar, Hannah_Arendt, Momentum, Pareto_efficiency, 1890, Mali_Empire, Trobriand_people, Indian_National_Congress, Maya_Hero_Twins, Angola, Symphony_No._3_(Beethoven), Death_of_a_Salesman, Dôle, Honoré_de_Balzac, Viola, Hussite_Wars, Nelson_Rockefeller, Julio_Cortázar, Turing_machine, Battle_of_Megiddo_(15th_century_BC), Deformation_(physics), The_English_Commentary_of_the_Holy_Quran, Scheduling_(computing), Diabelli_Variations, Quantum_chromodynamics, Symphony_No._2_(Mahler), The_Sailor_Who_Fell_from_Grace_with_the_Sea, Laser, Jelly_Roll_Morton, Qing_dynasty, Cruel_and_unusual_punishment, Theophilus_Eaton, Aethiopica, Valmiki, Solomonic_dynasty, Indonesia, Johann_Nepomuk_Hummel, St._Matthew_Passion, Pataphysics, Billy_Sunday, Patience, Thomas_Hart_Benton_(politician), Symphony_No._7_(Beethoven), Leigh_Hunt, Timaeus_(dialogue), Knapsack_problem, The_Essence_of_Christianity, Samaritans, Carbenes, The_Sickness_Unto_Death, A_System_of_Logic, Cross_Section, Holy_Sonnets, T-symmetry, Battle_of_the_Dunes_(1658), Tamil_language, United_States_Secretary_of_the_Interior, Jet_stream, A_New_Way_to_Pay_Old_Debts, A_New_Way_to_Pay_Old_Debts, White_Mountains_(New_Hampshire), Good-Bye_to_All_That, Charles_George_Gordon, The_Golden_Legend, An_Alpine_Symphony, Spartacus_League, Poland, Reasons_and_Persons, Elementary_charge, Diffusion, Joseph_Haydn, Prostate, Dubliners, Antibody, Enzyme, Phase_transition, Nanjing, Australia, General_relativity\n"
     ]
    }
   ],
   "source": [
    "print(\", \".join(close_ans))"
   ]
  },
  {
   "cell_type": "code",
   "execution_count": 93,
   "metadata": {},
   "outputs": [
    {
     "name": "stderr",
     "output_type": "stream",
     "text": [
      "/var/folders/45/79k7zvd11xg9h0zbbxwzd6q40000gn/T/ipykernel_56384/3386373902.py:2: UserWarning: \n",
      "\n",
      "`distplot` is a deprecated function and will be removed in seaborn v0.14.0.\n",
      "\n",
      "Please adapt your code to use either `displot` (a figure-level function with\n",
      "similar flexibility) or `histplot` (an axes-level function for histograms).\n",
      "\n",
      "For a guide to updating your code to use the new functions, please see\n",
      "https://gist.github.com/mwaskom/de44147ed2974457ad6372750bbe5751\n",
      "\n",
      "  sns.distplot(close_len, bins=range(10), ax=ax, label='close')\n",
      "/var/folders/45/79k7zvd11xg9h0zbbxwzd6q40000gn/T/ipykernel_56384/3386373902.py:3: UserWarning: \n",
      "\n",
      "`distplot` is a deprecated function and will be removed in seaborn v0.14.0.\n",
      "\n",
      "Please adapt your code to use either `displot` (a figure-level function with\n",
      "similar flexibility) or `histplot` (an axes-level function for histograms).\n",
      "\n",
      "For a guide to updating your code to use the new functions, please see\n",
      "https://gist.github.com/mwaskom/de44147ed2974457ad6372750bbe5751\n",
      "\n",
      "  sns.distplot(hit_len, bins=range(10), ax=ax, label='hit')\n",
      "/var/folders/45/79k7zvd11xg9h0zbbxwzd6q40000gn/T/ipykernel_56384/3386373902.py:4: UserWarning: \n",
      "\n",
      "`distplot` is a deprecated function and will be removed in seaborn v0.14.0.\n",
      "\n",
      "Please adapt your code to use either `displot` (a figure-level function with\n",
      "similar flexibility) or `histplot` (an axes-level function for histograms).\n",
      "\n",
      "For a guide to updating your code to use the new functions, please see\n",
      "https://gist.github.com/mwaskom/de44147ed2974457ad6372750bbe5751\n",
      "\n",
      "  sns.distplot(miss_len, bins=range(10), ax=ax, label='miss')\n"
     ]
    },
    {
     "data": {
      "text/plain": [
       "<matplotlib.legend.Legend at 0x1589a1e20>"
      ]
     },
     "execution_count": 93,
     "metadata": {},
     "output_type": "execute_result"
    },
    {
     "data": {
      "image/png": "[encoded data removed]",
      "text/plain": [
       "<Figure size 640x480 with 1 Axes>"
      ]
     },
     "metadata": {},
     "output_type": "display_data"
    }
   ],
   "source": [
    "fig, ax = plt.subplots()\n",
    "sns.distplot(close_len, bins=range(10), ax=ax, label='close')\n",
    "sns.distplot(hit_len, bins=range(10), ax=ax, label='hit')\n",
    "sns.distplot(miss_len, bins=range(10), ax=ax, label='miss')\n",
    "ax.legend()\n",
    "# ax.set_xlim([0, 100])"
   ]
  },
  {
   "cell_type": "markdown",
   "metadata": {},
   "source": [
    "## Mistakes of guesser"
   ]
  },
  {
   "cell_type": "code",
   "execution_count": 107,
   "metadata": {},
   "outputs": [
    {
     "data": {
      "text/plain": [
       "['Lana_Del_Rey', 'Hannibal', 'State_of_Washington', 'Latin', 'Isolde']"
      ]
     },
     "execution_count": 107,
     "metadata": {},
     "output_type": "execute_result"
    }
   ],
   "source": [
    "miss_ans[:5]"
   ]
  },
  {
   "cell_type": "code",
   "execution_count": 115,
   "metadata": {},
   "outputs": [
    {
     "data": {
      "text/plain": [
       "(174, 174)"
      ]
     },
     "execution_count": 115,
     "metadata": {},
     "output_type": "execute_result"
    }
   ],
   "source": [
    "len(miss_q), len(miss_ans)"
   ]
  },
  {
   "cell_type": "code",
   "execution_count": null,
   "metadata": {},
   "outputs": [],
   "source": [
    "for q, a in list(zip(miss_q, miss_ans)):\n",
    "    "
   ]
  }
 ],
 "metadata": {
  "kernelspec": {
   "display_name": "Python 3",
   "language": "python",
   "name": "python3"
  },
  "language_info": {
   "codemirror_mode": {
    "name": "ipython",
    "version": 3
   },
   "file_extension": ".py",
   "mimetype": "text/x-python",
   "name": "python",
   "nbconvert_exporter": "python",
   "pygments_lexer": "ipython3",
   "version": "3.9.6"
  },
  "orig_nbformat": 4
 },
 "nbformat": 4,
 "nbformat_minor": 2
}
